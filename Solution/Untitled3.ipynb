{
 "cells": [
  {
   "cell_type": "code",
   "execution_count": 8,
   "metadata": {},
   "outputs": [
    {
     "name": "stdout",
     "output_type": "stream",
     "text": [
      "65\n"
     ]
    }
   ],
   "source": [
    "import csv \n",
    "import numpy as np\n",
    "# Open the data file\n",
    "file_path = 'world_indexes_data'                       # FIX THIS: Insert correct file path\n",
    "with open(file_path) as file_handle:\n",
    "    file_reader = csv.reader(file_handle, delimiter = ',')    # FIX THIS: Need to specify the delimiter.\n",
    "                                                \n",
    "    # Process the header (first row of file)\n",
    "    \n",
    "    features = next(file_reader)[1:]\n",
    "  \n",
    "    K = len(features)\n",
    "    print(K)"
   ]
  },
  {
   "cell_type": "code",
   "execution_count": null,
   "metadata": {},
   "outputs": [],
   "source": []
  }
 ],
 "metadata": {
  "kernelspec": {
   "display_name": "Python 3",
   "language": "python",
   "name": "python3"
  },
  "language_info": {
   "codemirror_mode": {
    "name": "ipython",
    "version": 3
   },
   "file_extension": ".py",
   "mimetype": "text/x-python",
   "name": "python",
   "nbconvert_exporter": "python",
   "pygments_lexer": "ipython3",
   "version": "3.7.0"
  }
 },
 "nbformat": 4,
 "nbformat_minor": 2
}
