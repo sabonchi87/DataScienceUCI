{
 "cells": [
  {
   "cell_type": "markdown",
   "metadata": {},
   "source": [
    "# Session 1.1\n",
    "### Coding warmup"
   ]
  },
  {
   "cell_type": "markdown",
   "metadata": {},
   "source": [
    "# ** Part 0: ** The Jupyter notebook environment (15 minutes)\n",
    "\n",
    "- Jupyter notebooks are a super useful environment for writing and running Python code\n",
    "- They allow you to break programs down into 'cells' that can be evaluated individually\n",
    "- Besides cells to execute Python code, there are also ** Markdown cells** with the following functionality\n",
    "    - Create lists!\n",
    "    - **Format** *text*!\n",
    "    - [Insert links!](https://www.youtube.com/watch?v=dQw4w9WgXcQ)\n",
    "    - Include images! ![](../images/jupyterlogo.png)\n",
    "    - Write mathematical equations $\\vec{F}=m\\vec{a}$ using $\\LaTeX$!\n",
    "- The cell containing this text is an example of a Markdown cell\n",
    "- The toolbar at the top provides all of the functionality available to Jupyter notebooks;\n",
    "- For instance, there are buttons to save the notebook, rename it, refresh the Python kernel, cut/copy-and-paste cells, create new cells, convert cells from Code to Markdown, etc...\n",
    "- Useful keyboard commands:\n",
    "\n",
    "| Function                  | Command       |\n",
    "| ------------------------- | ------------- |\n",
    "| Evaluate cell             | SHIFT + ENTER |\n",
    "| Insert new cell below     | ESC + B       |\n",
    "| Convert cell to Markdown  | ESC + M       |\n",
    "| Convert cell to Code      | ESC + Y       |\n",
    "| Cut cell                  | ESC + X       |\n",
    "| Paste cell                | ESC + V       |"
   ]
  },
  {
   "cell_type": "markdown",
   "metadata": {},
   "source": [
    "## <font color=\"red\">Exercise: Jupyter practice (10 minutes)</font>\n",
    "- Let's take some time to familiarize ourselves with the Jupyter notebook\n",
    "- Try to become comfortable with all of the functions in the above table before moving on\n",
    "\n",
    "\n",
    "Try to perform the following:\n",
    "1. Create a Markdown cell with a header title\n",
    "2. Create a Code cell containing a valid Python print() statement and evaluate the cell\n",
    "    - *e.g.* print('Hello world!')\n",
    "3. Save the notebook"
   ]
  },
  {
   "cell_type": "code",
   "execution_count": null,
   "metadata": {},
   "outputs": [],
   "source": [
    "'''\n",
    "Turn this into a Markdown cell with a header title!\n",
    "'''"
   ]
  },
  {
   "cell_type": "markdown",
   "metadata": {},
   "source": [
    "##### Turn this cell into a Python Code cell"
   ]
  },
  {
   "cell_type": "markdown",
   "metadata": {},
   "source": [
    "##### Create a Code cell below this cell, add a Python `print()` statement, and run the cell"
   ]
  },
  {
   "cell_type": "markdown",
   "metadata": {},
   "source": [
    "# ** Part 1: ** Importing Python modules (25 minutes)\n",
    "- Modules are Python packages that contain additional functions and class definitions\n",
    "- There are many pre-existing Python modules that add a ton of diverse functionality to Python\n",
    "- We can even create our own Python modules!\n",
    "- Python modules are brought in to the current environment with the `import` statement"
   ]
  },
  {
   "cell_type": "markdown",
   "metadata": {},
   "source": [
    "## <font color=\"green\">Demo: Importing the `time` module </font>"
   ]
  },
  {
   "cell_type": "code",
   "execution_count": 1,
   "metadata": {},
   "outputs": [
    {
     "name": "stdout",
     "output_type": "stream",
     "text": [
      "['_STRUCT_TM_ITEMS', '__doc__', '__loader__', '__name__', '__package__', '__spec__', 'altzone', 'asctime', 'clock', 'ctime', 'daylight', 'get_clock_info', 'gmtime', 'localtime', 'mktime', 'monotonic', 'monotonic_ns', 'perf_counter', 'perf_counter_ns', 'process_time', 'process_time_ns', 'sleep', 'strftime', 'strptime', 'struct_time', 'time', 'time_ns', 'timezone', 'tzname', 'tzset']\n"
     ]
    }
   ],
   "source": [
    "# Import the module time\n",
    "import time\n",
    "\n",
    "# Print a list of all the functions and objects in the time module\n",
    "print(dir(time))"
   ]
  },
  {
   "cell_type": "code",
   "execution_count": null,
   "metadata": {},
   "outputs": [],
   "source": [
    "# Get info on the 'time.time()' function\n",
    "print(help(time.time))"
   ]
  },
  {
   "cell_type": "code",
   "execution_count": 2,
   "metadata": {},
   "outputs": [
    {
     "name": "stdout",
     "output_type": "stream",
     "text": [
      "1565715518.884843\n"
     ]
    }
   ],
   "source": [
    "# Print current time:\n",
    "print(time.time())"
   ]
  },
  {
   "cell_type": "markdown",
   "metadata": {},
   "source": [
    "## <font color=\"green\">Demo: Calculating the time to sum lists with exponentially increasing length </font>"
   ]
  },
  {
   "cell_type": "code",
   "execution_count": null,
   "metadata": {},
   "outputs": [],
   "source": [
    "# Calculate the time it takes for Python to calculate sums:\n",
    "# This code generates lists of numbers [0,1,...,2^i] for various i, and calculates the required time to sum each list\n",
    "\n",
    "dts = []    # Create empty list that we will append the calculation times to\n",
    "\n",
    "\n",
    "N = 29 # Number of iteratoins\n",
    "\n",
    "for i in range(0, N):\n",
    "    \n",
    "    # Create a list with 10^i elements\n",
    "    numbers = range(2**i)\n",
    "    \n",
    "    # Calculate the sum of the list, getting the time before and after the sum() call for benchmarking purposes\n",
    "    ti = time.time()\n",
    "    sum(numbers)\n",
    "    tf = time.time()\n",
    "    \n",
    "    dt = tf - ti\n",
    "    \n",
    "    # Append the time difference to the \n",
    "    dts.append(dt)"
   ]
  },
  {
   "cell_type": "code",
   "execution_count": null,
   "metadata": {},
   "outputs": [],
   "source": [
    "# Plot the time vs iteration using matplotlib.pyplot\n",
    "\n",
    "import matplotlib.pyplot as plt\n",
    "\n",
    "fig = plt.figure(figsize = (12,8))\n",
    "plt.loglog([2**i for i in range(N)], dts, ls = '--', marker = 'o', lw = 3, markersize = 10)\n",
    "plt.grid()\n",
    "plt.xlabel('list length', size = 16)\n",
    "plt.ylabel('duration (s)', size = 16)\n",
    "plt.tick_params(labelsize = 16)\n",
    "plt.show()"
   ]
  },
  {
   "cell_type": "markdown",
   "metadata": {},
   "source": [
    "## <font color=\"red\">Exercise: Using Python's `math` module (15 minutes)</font>\n",
    "1. Import the Python module `math`\n",
    "2. Print a list of all of the functions available in `math` using the `dir()` function\n",
    "3. Calculate the following ** (hint: Use `for` loops) ** :\n",
    "    1. $\\frac{1}{N}\\Sigma_{i=1}^{50}i$\n",
    "        - Answer: 25.5\n",
    "    2. $\\Sigma_{i=1}^{10}i!$ (10 factorial)\n",
    "        - Answer: 4037913"
   ]
  },
  {
   "cell_type": "code",
   "execution_count": null,
   "metadata": {},
   "outputs": [],
   "source": [
    "##########################\n",
    "# Insert solution below! #\n",
    "##########################\n",
    "\n",
    "\n",
    "\n",
    "\n",
    "# 1. Import math module\n",
    "#######################\n",
    "import math \n",
    "\n",
    "\n",
    "\n",
    "# 2. Print a list of all the functions available in math using the dir() function\n",
    "#################################################################################\n",
    "print('TODO 1')\n",
    "print('\\n\\n')"
   ]
  },
  {
   "cell_type": "code",
   "execution_count": null,
   "metadata": {},
   "outputs": [],
   "source": [
    "##########################\n",
    "# Insert solution below! #\n",
    "##########################\n",
    "\n",
    "\n",
    "# 3. Calculate the following\n",
    "############################\n",
    "\n",
    "#A. mean of first fity numbers\n",
    "answer = 0\n",
    "for i in range('TODO 1', 'TODO 2'):\n",
    "    answer = 'TODO 3'\n",
    "    \n",
    "answer = 'TODO 4'\n",
    "print('mean of first fifty numbers\\t\\t', answer)\n",
    "print('\\n\\n')\n",
    "\n",
    "\n",
    "# B. sum(i!) for i from 1 to 10\n",
    "answer = 0\n",
    "for i in 'TODO 5':\n",
    "    answer = 'TODO 6' # Hint: use math.factorial\n",
    "    \n",
    "print('10!\\t\\t', answer)"
   ]
  },
  {
   "cell_type": "markdown",
   "metadata": {},
   "source": [
    "# Common Python data structures\n",
    "\n",
    "- Python has a number of useful data structures available, including the following\n",
    "\n",
    "- List:\n",
    "    - Store an ordered sequence of values\n",
    "- Dictionary:\n",
    "    - Store key-value pairs\n",
    "- Tuple:\n",
    "    - Like a list, but immutable (elements cannot be changed)\n",
    "- Set: \n",
    "    - Like a list or tuple, but values cannot be repeated\n",
    "    \n",
    "- We'll focus on `list` and `dict`, since those are arguably the most important and commonly used data structures in Python"
   ]
  },
  {
   "cell_type": "markdown",
   "metadata": {},
   "source": [
    "# Part 2. Working with lists (25 minutes)\n",
    "- Lists are one of the most commonly used types of objects in Python\n",
    "- Lists are denoted with square brackets [] surrounding a list of elements separated by columns"
   ]
  },
  {
   "cell_type": "code",
   "execution_count": null,
   "metadata": {},
   "outputs": [],
   "source": [
    "example_list = [1,2,3,4]\n",
    "print(example_list)\n",
    "print(type(example_list))"
   ]
  },
  {
   "cell_type": "markdown",
   "metadata": {},
   "source": [
    "- Specific elements of a list are accessed with list[index]\n",
    "- A range of elements is accessed with list[index1:index2], which returns the elements of list from index1 to (index2-1)"
   ]
  },
  {
   "cell_type": "code",
   "execution_count": null,
   "metadata": {},
   "outputs": [],
   "source": [
    "print(example_list[0])        # Print first element (0)\n",
    "print(example_list[0:3])      # Print first through third element (0, 1, 2)\n",
    "print(example_list[-1])       # Print last element (3, or -1)\n",
    "print(example_list[-3:])      # Print third to last element through last element (1, 2, 3, or -3, -2, -1)"
   ]
  },
  {
   "cell_type": "markdown",
   "metadata": {},
   "source": [
    "- Instead of manually typing out numbers, it's also possible to create lists using ** list comprehension **"
   ]
  },
  {
   "cell_type": "code",
   "execution_count": null,
   "metadata": {},
   "outputs": [],
   "source": [
    "# Create a list of numbers from 0 to 9\n",
    "numbers = [i for i in range(0, 10)]\n",
    "print('numbers 0-9', numbers)\n",
    "\n",
    "# Create a list of numbers from 0 to 9 squared\n",
    "squared_numbers = [i**2 for i in range(0, 10)]\n",
    "print('numbers 0-9 squared', squared_numbers)"
   ]
  },
  {
   "cell_type": "markdown",
   "metadata": {},
   "source": [
    "- Another possible way to create and fill lists is with the `append()` function, which adds an element to the end of a list"
   ]
  },
  {
   "cell_type": "code",
   "execution_count": null,
   "metadata": {},
   "outputs": [],
   "source": [
    "# Create a list of random numbers \n",
    "\n",
    "\n",
    "\n",
    "\n",
    "import numpy                                            # Import numpy, which contains functions to generate\n",
    "                                                        # random numbers\n",
    "\n",
    "    \n",
    "    \n",
    "random_numbers = []                                     # Create an empty list to be filled with random numbers\n",
    "\n",
    "\n",
    "\n",
    "for i in range(10):                                     # Loop 10 times \n",
    "    \n",
    "    random_number = numpy.random.randint(1,7)           # Generate a random number between 1 and 6\n",
    "    random_numbers.append(random_number)                # Add the random number to the list\n",
    "    \n",
    "    \n",
    "    \n",
    "    \n",
    "print(random_numbers)"
   ]
  },
  {
   "cell_type": "markdown",
   "metadata": {},
   "source": [
    "- Note that we could have achieved the same thing with list comprehension"
   ]
  },
  {
   "cell_type": "code",
   "execution_count": null,
   "metadata": {},
   "outputs": [],
   "source": [
    "random_numbers = [numpy.random.randint(1,7) for i in range(10)]\n",
    "\n",
    "print(random_numbers)"
   ]
  },
  {
   "cell_type": "markdown",
   "metadata": {},
   "source": [
    "- Iterating over lists using `for` is very easy in Python:"
   ]
  },
  {
   "cell_type": "code",
   "execution_count": null,
   "metadata": {},
   "outputs": [],
   "source": [
    "# Create a list of first names, and print each name\n",
    "names = ['bob', 'james', 'cindy', 'louise']\n",
    "\n",
    "\n",
    "\n",
    "for name in names:\n",
    "    print(name)"
   ]
  },
  {
   "cell_type": "markdown",
   "metadata": {},
   "source": [
    "- Use the len() function to get the length of a list:"
   ]
  },
  {
   "cell_type": "code",
   "execution_count": null,
   "metadata": {},
   "outputs": [],
   "source": [
    "num_names = len(names)\n",
    "for i in range(num_names):\n",
    "    names[i] = names[i].title()    # title() function capitalizes the first letter in each word in a str\n",
    "    print(names[i])"
   ]
  },
  {
   "cell_type": "markdown",
   "metadata": {},
   "source": [
    "## <font color=\"green\">Demo: Creating plots of sin, cos, and tangent of angles </font>"
   ]
  },
  {
   "cell_type": "code",
   "execution_count": null,
   "metadata": {},
   "outputs": [],
   "source": [
    "# Create a list of angles from 0 to 2 pi\n",
    "angles = [2*math.pi*i/100. for i in range(100)]                          \n",
    "\n",
    "# Create trig lists\n",
    "sines = [math.sin(angle) for angle in angles]\n",
    "cosines = [math.cos(angle) for angle in angles]\n",
    "tangents = [sines[i]/cosines[i] for i in range(len(angles))]\n",
    "\n",
    "\n",
    "\n",
    "# Plot the functions\n",
    "\n",
    "fig, axes = plt.subplots(1,3, figsize = (8,3))\n",
    "\n",
    "plt.sca(axes[0])\n",
    "plt.plot(angles, sines, lw = 3)\n",
    "plt.title('sin')\n",
    "\n",
    "plt.sca(axes[1])\n",
    "plt.plot(angles, cosines, lw = 3)\n",
    "plt.title('cos')\n",
    "\n",
    "plt.sca(axes[2])\n",
    "plt.plot(angles, tangents, lw = 3)\n",
    "plt.ylim(-5,5)\n",
    "plt.title('tan')\n",
    "\n",
    "\n",
    "fig.tight_layout()\n",
    "\n",
    "plt.show()"
   ]
  },
  {
   "cell_type": "markdown",
   "metadata": {},
   "source": [
    "## <font color=\"red\">Exercise: Creating a list of random numbers (15 minutes)</font>\n",
    "- Import the [Python `random` library ](https://docs.python.org/2/library/random.html)\n",
    "- Set the random seed to ** 'abc' **\n",
    "- Create a list of 100 random integers between 1-100\n",
    "- Answer the following questions.\n",
    "    - What is the 10th element of the list? ** Remember Python starts indexing at 0! **\n",
    "        - Answer: 8\n",
    "    - What is the mean of the list?\n",
    "        - Answer: 53.7\n",
    "    - What is the sum of the last five elements?\n",
    "        - Answer: 161"
   ]
  },
  {
   "cell_type": "code",
   "execution_count": 15,
   "metadata": {},
   "outputs": [
    {
     "name": "stdout",
     "output_type": "stream",
     "text": [
      "[99, 72, 59, 91, 46, 100, 46, 21, 35, 8, 28, 10, 86, 84, 2, 89, 101, 85, 95, 1, 97, 97, 10, 41, 35, 87, 16, 50, 98, 72, 51, 48, 56, 15, 59, 5, 46, 95, 52, 51, 69, 78, 6, 45, 99, 45, 38, 80, 42, 85, 56, 41, 58, 1, 91, 3, 31, 14, 84, 29, 87, 35, 33, 72, 21, 97, 64, 53, 64, 95, 20, 90, 94, 25, 76, 7, 39, 39, 38, 94, 96, 100, 91, 79, 70, 47, 21, 40, 101, 43, 6, 45, 32, 100, 38, 94, 31, 10, 63, 48]\n",
      "10th element of list\n",
      "8\n",
      "\n",
      "list mean\n",
      "1.2676506002282294e+28\n",
      "\n",
      "last five elements of the list []\n",
      "sum of last 5 elements (for loop)\n",
      "246\n",
      "sum of last 5 elements (sum function)\n",
      "246\n",
      "\n"
     ]
    }
   ],
   "source": [
    "##########################\n",
    "# Insert solution below! #\n",
    "##########################\n",
    "\n",
    "import random\n",
    "random.seed('abc')\n",
    "randoms = ['TODO 1']\n",
    "\n",
    "randoms=[random.randint(1,101) for i in range(1,101)]\n",
    " \n",
    "print(randoms )\n",
    "# Question 1: What is the 10th element of the list?\n",
    "###################################################\n",
    "\n",
    "print('10th element of list')\n",
    "print (randoms[9])\n",
    "\n",
    "print()\n",
    "\n",
    "\n",
    "\n",
    "\n",
    "# Question 2: What is the mean of the list?\n",
    "###########################################\n",
    "\n",
    "average =0\n",
    "for i in range(len(randoms)):\n",
    "    average+=average+i\n",
    "average=average/len(randoms)\n",
    "\n",
    "\n",
    "print('list mean')\n",
    "print(average)\n",
    "print()\n",
    "\n",
    "\n",
    "\n",
    "\n",
    "# Question 3: What is the sum of the last 5 elements?\n",
    "#####################################################\n",
    "\n",
    "# Get the last five elements\n",
    "last_five = randoms[-5:4]\n",
    "\n",
    "print('last five elements of the list', last_five)\n",
    "\n",
    "# Using for loops\n",
    "total = 0\n",
    "for i in randoms [-5:]:\n",
    "    total=total+i\n",
    "    \n",
    "\n",
    "print('sum of last 5 elements (for loop)')\n",
    "\n",
    "print(total)\n",
    "    \n",
    "# Using the sum() function\n",
    "total = total=sum(randoms[-5:])\n",
    "    \n",
    "print('sum of last 5 elements (sum function)')\n",
    "print(total)\n",
    "print()\n",
    "\n"
   ]
  },
  {
   "cell_type": "markdown",
   "metadata": {},
   "source": [
    "# Part 3. Working with dictionaries (5 minutes)\n",
    "- A Python `dict` is similar to a list, but instead of containing single elements it contains key-value pairs\n",
    "- The value is accessed by supplying the `dict` with a key\n",
    "- Example:"
   ]
  },
  {
   "cell_type": "code",
   "execution_count": null,
   "metadata": {},
   "outputs": [],
   "source": [
    "# Create a dictionary of {dog name: dog breed} entries\n",
    "dogs = {'Bailey': 'Golden Retriever', 'Max': 'Pit Bull', 'Ollie': 'Pug', 'Gracie': 'Mutt'}\n",
    "print(dogs['Bailey'])"
   ]
  },
  {
   "cell_type": "markdown",
   "metadata": {},
   "source": [
    "- Adding a new key:value pair to a dictionary has similar syntax to accessing a value:"
   ]
  },
  {
   "cell_type": "code",
   "execution_count": null,
   "metadata": {},
   "outputs": [],
   "source": [
    "dogs['Willie'] = 'Dachshund'\n",
    "\n",
    "print(dogs)"
   ]
  },
  {
   "cell_type": "markdown",
   "metadata": {},
   "source": [
    "- By default, for loops iterate over the dictionary's keys:"
   ]
  },
  {
   "cell_type": "code",
   "execution_count": null,
   "metadata": {},
   "outputs": [],
   "source": [
    "for dog in dogs:\n",
    "    print('Name:', dog, '\\t\\tBreed:', dogs[dog])"
   ]
  },
  {
   "cell_type": "markdown",
   "metadata": {},
   "source": [
    "- Python dictionaries themselves are very useful\n",
    "- The idea of dictionaries and their usage syntax are ubiquitous in programming\n",
    "- Examples:\n",
    "    - JSON/XML files\n",
    "    - Column slicing of dataframes in Python's `pandas` module"
   ]
  },
  {
   "cell_type": "markdown",
   "metadata": {},
   "source": [
    "# Part 4. User-defined functions (25 minutes)"
   ]
  },
  {
   "cell_type": "markdown",
   "metadata": {},
   "source": [
    "- The following is the syntax for defining and using a Python function:"
   ]
  },
  {
   "cell_type": "code",
   "execution_count": null,
   "metadata": {},
   "outputs": [],
   "source": [
    "# Create a function called 'RandomFunction()'\n",
    "def RandomFunction(arg1, arg2, optional_arg = None):\n",
    "    \n",
    "    # Do stuff with the arguments\n",
    "    result = arg1*arg2\n",
    "    if optional_arg != None:\n",
    "        result = result + optional_arg\n",
    "    \n",
    "    # Return the result\n",
    "    return result\n",
    "\n",
    "print(RandomFunction(2,3))\n",
    "print(RandomFunction(2,3,4))"
   ]
  },
  {
   "cell_type": "markdown",
   "metadata": {},
   "source": [
    "- Optional arguments are super useful in Python; they can enable greater specificity to a function without adding typing overhead if the user doesn't need that specificity\n",
    "- Example: Cosmetic options for a plot in matplotlib"
   ]
  },
  {
   "cell_type": "code",
   "execution_count": null,
   "metadata": {},
   "outputs": [],
   "source": [
    "fig, axes = plt.subplots(1,2,figsize = (12,4))\n",
    "\n",
    "sines = [math.sin(i/10*2*math.pi) for i in range(10)]\n",
    "\n",
    "# Customized plot\n",
    "plt.sca(axes[0])\n",
    "plt.plot(sines, lw = 3, ls = '--', marker = 'o', markersize = 10,\\\n",
    "         color = 'purple', alpha = 1, markerfacecolor = 'white',\\\n",
    "        label = 'sin', markeredgewidth = 3, markevery = 2, antialiased = True,\\\n",
    "        fillstyle = 'full')\n",
    "plt.title('A super customized line')\n",
    "\n",
    "\n",
    "# Simple plot\n",
    "plt.sca(axes[1])\n",
    "plt.plot(sines)\n",
    "plt.title('The data will do just fine, thanks')\n",
    "plt.show()\n"
   ]
  },
  {
   "cell_type": "markdown",
   "metadata": {},
   "source": [
    "# Demo: Defining a function to calculate the average of a list"
   ]
  },
  {
   "cell_type": "code",
   "execution_count": 21,
   "metadata": {},
   "outputs": [
    {
     "name": "stdout",
     "output_type": "stream",
     "text": [
      "0.3967375678762445\n"
     ]
    }
   ],
   "source": [
    "def GetListAverage(numbers):\n",
    "    total = sum(numbers)\n",
    "    length = len(numbers)\n",
    "    average = total/length\n",
    "    return average\n",
    "\n",
    "\n",
    "# Generate a list of random reals from 0 to 1 and calculate average\n",
    "\n",
    "\n",
    "import numpy                                                # Import numpy\n",
    "\n",
    "\n",
    "N = 10                                                      # Create list of N random numbers\n",
    "randoms = [numpy.random.rand() for i in range(N)]\n",
    "\n",
    "\n",
    "randoms_average = GetListAverage(randoms)                   # Get average of random numbers\n",
    "print(randoms_average)"
   ]
  },
  {
   "cell_type": "markdown",
   "metadata": {
    "collapsed": true
   },
   "source": [
    "# Demo: Defining a function to plot a sequence of numbers"
   ]
  },
  {
   "cell_type": "code",
   "execution_count": 25,
   "metadata": {},
   "outputs": [],
   "source": [
    "def PlotList(numbers):\n",
    "    plt.plot(numbers, marker = 'o')\n",
    "    plt.grid()\n",
    "    plt.show()\n",
    "    \n",
    "    \n",
    "#PlotList(randoms)   # Plot the random numbers generated above"
   ]
  },
  {
   "cell_type": "markdown",
   "metadata": {},
   "source": [
    "## <font color=\"red\">Exercise: Fibonacci number function (15 minutes)</font>\n",
    "1. Create a function 'Fibonacci' that calculates the nth Fibonacci number:\n",
    "$$ \n",
    "\\begin{align}\n",
    "\\mathrm{Fibonacci}\\left(n\\right) &= \\mathrm{Fibonacci}\\left(n-1\\right)+\\mathrm{Fibonacci}\\left(n-2\\right), \\\\\n",
    "\\mathrm{Fibonacci}\\left(0\\right) &= 0,~~~\\mathrm{Fibonacci}\\left(1\\right) = 1 \n",
    "\\end{align}\n",
    "$$\n",
    "    \n",
    "2. Create a list of the first 20 Fibonacci numbers\n",
    "    - 0, 1, 1, 2, 3, 5, 8, 13, 21, 34, 55, 89, 144, ...\n",
    "3. Use the above 'GetListAverage()' function to get the average of the sequence\n",
    "4. Use the above 'PlotList()' function to plot the sequence"
   ]
  },
  {
   "cell_type": "code",
   "execution_count": 28,
   "metadata": {},
   "outputs": [
    {
     "name": "stdout",
     "output_type": "stream",
     "text": [
      "3 + 4 = 7\n",
      "Fibonacci(4) =  3\n",
      "[0, 1, 1, 2, 3, 5, 8, 13, 21, 34, 55, 89, 144, 233, 377, 610, 987, 1597, 2584, 4181]\n",
      "547.25\n"
     ]
    },
    {
     "data": {
      "image/png": "[encoded data removed]",
      "text/plain": [
       "<Figure size 432x288 with 1 Axes>"
      ]
     },
     "metadata": {
      "needs_background": "light"
     },
     "output_type": "display_data"
    }
   ],
   "source": [
    "##########################\n",
    "# Insert solution below! #\n",
    "##########################\n",
    "import matplotlib.pyplot as plt\n",
    "\n",
    "# Create a function that adds two numbers together\n",
    "##################################################\n",
    "def my_add(x, y):\n",
    "    return  x+y\n",
    "\n",
    "print('3 + 4 =', my_add(3,4))\n",
    "\n",
    "# Create the Fibonacci function (using recursion)\n",
    "#################################################\n",
    "\n",
    "# Recursive method\n",
    "def fibonacci_recursion(n):\n",
    "    if n == 0:\n",
    "        Fib_n = 0\n",
    "    elif n == 1:\n",
    "        Fib_n = 1\n",
    "    else:\n",
    "        Fib_n = fibonacci_recursion(n-1) + fibonacci_recursion(n-2)\n",
    "        \n",
    "    return Fib_n\n",
    "    \n",
    "print('Fibonacci(4) = ', fibonacci_recursion(4))    \n",
    "    \n",
    "\n",
    "# Populate list of first 20 Fibonacci numbers\n",
    "#############################################\n",
    "\n",
    "fibonaccis = [fibonacci_recursion(i) for i in  range(20)]\n",
    "print(fibonaccis)\n",
    "\n",
    "\n",
    "\n",
    "# Calculate average of list\n",
    "###########################\n",
    "\n",
    "print(GetListAverage(fibonaccis)) # Hint: Use GetListAverage()\n",
    "\n",
    "\n",
    "\n",
    "\n",
    "\n",
    "\n",
    "\n",
    "# Plot the list\n",
    "###############\n",
    "# plt.plot(fibonaccis)\n",
    "\n",
    "\n",
    "\n",
    "# Hint: Use PlotList()\n",
    "\n",
    "PlotList(fibonaccis)\n",
    "\n",
    "\n"
   ]
  },
  {
   "cell_type": "markdown",
   "metadata": {},
   "source": [
    "# Part 5. File input and output (20 minutes)\n",
    "- File input and output in Python is pretty simple\n",
    "- We use the open() function to open a file, and we can also specify whether we're opening for reading, writing, or both\n",
    "- We can iterate over the lines in a file in the same way we iterate over elements in a list using `for` loops\n",
    "- The following code opens an example file and prints all of its lines"
   ]
  },
  {
   "cell_type": "code",
   "execution_count": null,
   "metadata": {},
   "outputs": [],
   "source": [
    "file_path = './data/csv_example'\n",
    "with open(file_path, 'r') as file_handle:    # Don't worry about this syntax---it's called a 'context manager'\n",
    "                                             # but what's important is that it will automatically close the\n",
    "                                             # file for us when the code is done executing.\n",
    "    \n",
    "    \n",
    "    \n",
    "    for line in file_handle:                 # Iterate over all the lines in the file\n",
    "        print(line)"
   ]
  },
  {
   "cell_type": "markdown",
   "metadata": {},
   "source": [
    "- Notice the format of the above file; it consists of data entries with elements separated by commas\n",
    "- The comma-separated values (CSV) format is a very common format for data sets; think Excel spreadsheets\n",
    "- Data can also be separated with tabs or spaces, the use of commas is just a convention\n",
    "- The Python package `csv` adds handy functionality to file input and output for csv files;\n",
    "- For instance, it will automatically convert each line in the file to a list of elements\n",
    "- Let's use `csv` to add the data contained in the file to a dictionary"
   ]
  },
  {
   "cell_type": "code",
   "execution_count": null,
   "metadata": {},
   "outputs": [],
   "source": [
    "import csv\n",
    "\n",
    "file_path = './data/csv_example'\n",
    "with open(file_path, 'r') as file_handle:\n",
    "    \n",
    "    # Create a csv.reader() object; be sure to specify the type of delimiter\n",
    "    file_reader = csv.reader(file_handle, delimiter = ',')\n",
    "    \n",
    "    # Read the first row\n",
    "    header_row = next(file_reader)\n",
    "    \n",
    "    \n",
    "    scientist_dobs = {}    # Create empty dictionary\n",
    "    \n",
    "    # Loop over the rest of the rows\n",
    "    for row in file_reader:\n",
    "        scientist_dobs[row[0]] = row[1]    # The scientist's name (first element) is the key\n",
    "                                           # The scientist's dob (second element) is the value\n",
    "        \n",
    "print(scientist_dobs['Einstein'])"
   ]
  },
  {
   "cell_type": "markdown",
   "metadata": {},
   "source": [
    "## <font color=\"red\">Exercise: Reading a csv file (10 minutes)</font>\n",
    "- Open the file './data/numbers_csv'\n",
    "- Put each column into its own list\n",
    "- Use the plot_hist() function to plot a histogram of the data in each column"
   ]
  },
  {
   "cell_type": "code",
   "execution_count": null,
   "metadata": {},
   "outputs": [],
   "source": [
    "def plot_hist(data, bins = 10):\n",
    "    plt.hist(data, bins = bins)\n",
    "    plt.show()\n",
    "\n",
    "    \n",
    "##########################\n",
    "# Insert solution below! #\n",
    "##########################\n",
    "    \n",
    "# Open the file\n",
    "###############\n",
    "\n",
    "file_name = './data/numbers_csv'\n",
    "\n",
    "with 'TODO 1' as file_handle:\n",
    "    file_reader = csv.reader(file_handle, delimiter = ',')\n",
    "    \n",
    "    numbers_1 = []\n",
    "    numbers_2 = []\n",
    "    numbers_3 = []\n",
    "    \n",
    "\n",
    "    # Put each column into its own list\n",
    "    ###################################\n",
    "    for row in file_reader:\n",
    "        numbers_1.append(float('TODO 2'))\n",
    "        numbers_2.append('TODO 3')\n",
    "        # TODO 4: repeat the process for numbers_3\n",
    "\n",
    "\n",
    "\n",
    "\n",
    "\n",
    "# Plot a histogram of each column\n",
    "#################################\n",
    "num_bins = 50\n",
    "\n",
    "plot_hist('TODO 4', bins = 'TODO 5')\n",
    "plot_hist('TODO 6')\n",
    "# TODO 7: repeat the process for the third column  \n",
    "\n"
   ]
  },
  {
   "cell_type": "markdown",
   "metadata": {},
   "source": [
    "## <font color=\"green\">Demo: Writing to a csv file</font>\n",
    "- Reading is similar to reading, with a few minor differences"
   ]
  },
  {
   "cell_type": "code",
   "execution_count": null,
   "metadata": {},
   "outputs": [],
   "source": [
    "# Create a list of N random numbers and a list of labels from 1 to N \n",
    "# to write to a .csv file\n",
    "\n",
    "\n",
    "# Import numpy for random number generator\n",
    "import numpy\n",
    "\n",
    "\n",
    "N = 100                                                                       # Number of rows to write\n",
    "\n",
    "\n",
    "\n",
    "ints = [i+1 for i in range(N)]                                                # Create labels\n",
    "randoms = [numpy.random.rand() for i in range(N)]                             # Create list of randoms\n",
    "\n",
    "\n",
    "\n",
    "output_file_path = './data/test_output.csv'                                  # Open file for output\n",
    "with open(output_file_path, 'w') as output_file_handle:\n",
    "    \n",
    "    \n",
    "    \n",
    "    output_file_writer = csv.writer(output_file_handle, delimiter = ',')      # Create csv.writer object\n",
    "    \n",
    "    \n",
    "    \n",
    "    for i in range(N):                                                        # Write data by looping over lists\n",
    "        row = [ints[i], randoms[i]]\n",
    "        output_file_writer.writerow(row)\n",
    "    "
   ]
  }
 ],
 "metadata": {
  "kernelspec": {
   "display_name": "Python 3",
   "language": "python",
   "name": "python3"
  },
  "language_info": {
   "codemirror_mode": {
    "name": "ipython",
    "version": 3
   },
   "file_extension": ".py",
   "mimetype": "text/x-python",
   "name": "python",
   "nbconvert_exporter": "python",
   "pygments_lexer": "ipython3",
   "version": "3.7.0"
  }
 },
 "nbformat": 4,
 "nbformat_minor": 1
}
