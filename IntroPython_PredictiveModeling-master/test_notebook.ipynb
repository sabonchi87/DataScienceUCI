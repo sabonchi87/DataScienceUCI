{
 "cells": [
  {
   "cell_type": "markdown",
   "metadata": {},
   "source": [
    "Click into the grey part of the following cell, then run it by pressing Shift + Enter or clicking 'Cell'-> 'Run Cells' in the above toolbar."
   ]
  },
  {
   "cell_type": "code",
   "execution_count": 1,
   "metadata": {},
   "outputs": [
    {
     "name": "stdout",
     "output_type": "stream",
     "text": [
      "python:\t\t\t 3.6\n",
      "modules:\n",
      "\tnumpy:\t\t 1.14.3\n",
      "\tscipy:\t\t 1.1.0\n",
      "\tpandas:\t\t 0.23.0\n",
      "\tsklearn:\t 0.19.1\n"
     ]
    }
   ],
   "source": [
    "import sys; print('python:\\t\\t\\t', str(sys.version_info[0]) + '.' + str(sys.version_info[1]))\n",
    "print('modules:')\n",
    "import numpy;   print('\\tnumpy:\\t\\t', numpy.__version__)\n",
    "import scipy;   print('\\tscipy:\\t\\t', scipy.__version__)\n",
    "import pandas;  print('\\tpandas:\\t\\t', pandas.__version__)\n",
    "import sklearn; print('\\tsklearn:\\t', sklearn.__version__)"
   ]
  },
  {
   "cell_type": "markdown",
   "metadata": {},
   "source": [
    "The output should be something like this:\n",
    "\n",
    "`\n",
    "python:        3.6\n",
    "modules:\n",
    "    numpy:\t\t1.14.3\n",
    "    scipy:\t\t1.1.0\n",
    "    pandas:\t\t0.23.1\n",
    "    sklearn:\t0.19.1\n",
    "`\n",
    "\n",
    "Let your instructor know if the output doesn't match."
   ]
  },
  {
   "cell_type": "code",
   "execution_count": null,
   "metadata": {
    "collapsed": true
   },
   "outputs": [],
   "source": []
  }
 ],
 "metadata": {
  "anaconda-cloud": {},
  "kernelspec": {
   "display_name": "Python 3",
   "language": "python",
   "name": "python3"
  },
  "language_info": {
   "codemirror_mode": {
    "name": "ipython",
    "version": 3
   },
   "file_extension": ".py",
   "mimetype": "text/x-python",
   "name": "python",
   "nbconvert_exporter": "python",
   "pygments_lexer": "ipython3",
   "version": "3.6.5"
  }
 },
 "nbformat": 4,
 "nbformat_minor": 1
}
