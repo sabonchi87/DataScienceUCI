{
 "cells": [
  {
   "cell_type": "markdown",
   "metadata": {},
   "source": [
    "# Welcome to Python 101!\n",
    "\n",
    "- written by Preston Hinkle\n",
    "    - e-mail: tphinkle@gmail.com\n",
    "\n",
    "### Intro\n",
    "- This is a short primer on Python for complete newcomers to the language\n",
    "- This is **not** an introduction to programming in general!\n",
    "- This notebook runs in Python 2 AND 3, with some commentary about execution differences when necessary\n",
    "    \n",
    "### Syllabus\n",
    "1. The Jupyter notebook\n",
    "2. Creating variables and assigning values\n",
    "3. Python types\n",
    "    - numerical types\n",
    "        - float\n",
    "        - in\n",
    "    - string\n",
    "    - bool\n",
    "    - list\n",
    "    - dict\n",
    "4. Control flow\n",
    "    - for\n",
    "    - if, elif, else\n",
    "    - while\n",
    "5. Function declaration\n",
    "6. Classes\n",
    "7. Modules\n",
    "\n",
    "### Let's get started!"
   ]
  },
  {
   "cell_type": "markdown",
   "metadata": {},
   "source": [
    "# 1. The Jupyter notebook"
   ]
  },
  {
   "cell_type": "markdown",
   "metadata": {},
   "source": [
    "- Before we dig in to Python, let's talk about the Jupyter notebook\n",
    "\n",
    "- The Jupyter notebook provides a nice environment for writing and executing Python code, as well as some features that enable you to create an easy to read, easy to share document\n",
    "\n",
    "- Code is typed into cells, just like this one\n",
    "\n",
    "- Cells are evaluated individually, but memory is shared between cells\n",
    "\n",
    "- Click on the cell below and run it by pressing **Shift + Enter**!"
   ]
  },
  {
   "cell_type": "code",
   "execution_count": 1,
   "metadata": {},
   "outputs": [
    {
     "name": "stdout",
     "output_type": "stream",
     "text": [
      "This is a Python cell!\n"
     ]
    }
   ],
   "source": [
    "print('This is a Python cell!')"
   ]
  },
  {
   "cell_type": "markdown",
   "metadata": {},
   "source": [
    "- In addition to cells for writing code, cells can also be converted to Markdown, a very easy to use text markup language that produces nice formatting\n",
    "\n",
    "- All of the cells so far aside from the code cell directly above have been written in Markdown\n",
    "\n",
    "- Examples of what you can do with Markdown\n",
    "\n",
    "# Large header\n",
    "\n",
    "### Medium header\n",
    "\n",
    "##### Small header\n",
    "\n",
    "### Create lists\n",
    "\n",
    "Enumerated list:\n",
    "1. abc\n",
    "2. def\n",
    "3. ghi\n",
    "\n",
    "Normal list:\n",
    "- This\n",
    "- is\n",
    "    - a\n",
    "    - nested\n",
    "        - list!\n",
    "\n",
    "### Embedded $\\LaTeX$ in the Jupyter notebook!\n",
    "$$ \\rho\\frac{D^{2}\\vec{u}}{Dt}+\\rho\\left(\\vec{u}\\cdot\\nabla\\right)\\vec{u} = -\\nabla p + \\rho\\sum_{i}\\vec{f} +\\eta\\nabla^{2}\\vec{u}$$\n",
    "\n",
    "### Insert links into the document\n",
    "[Markdown cheat sheet](https://github.com/adam-p/markdown-here/wiki/Markdown-Cheatsheet)\n",
    "\n",
    "### Images\n",
    "![python-logo.png](python-logo.png)\n",
    "\n",
    "### **Protip:** Use Markdown cells in Jupyter notebook to label code blocks, explain what each segment is doing, and make your document presentable to others!"
   ]
  },
  {
   "cell_type": "markdown",
   "metadata": {},
   "source": [
    "### And now... on to learning Python!"
   ]
  },
  {
   "cell_type": "markdown",
   "metadata": {},
   "source": [
    "# 2. Creating variables\n",
    "\n",
    "- Assignment in Python is simple, just type `[variable] = [value]`; no type information necessary!\n",
    "\n",
    "- By the way, a comment is a line of Python code that is **not** evaluated by the interpreter; just like Markdown, it can increase the readability of your document!\n",
    "\n",
    "    - Comments can be inserted by starting a line with `#`\n",
    "\n",
    "- Read the code in the following two cells and then run them with **Shift + Enter**"
   ]
  },
  {
   "cell_type": "code",
   "execution_count": 2,
   "metadata": {},
   "outputs": [
    {
     "name": "stdout",
     "output_type": "stream",
     "text": [
      "a =  2\n",
      "b =  6\n"
     ]
    },
    {
     "ename": "NameError",
     "evalue": "name 'c' is not defined",
     "output_type": "error",
     "traceback": [
      "\u001b[0;31m----------------------------------------------------------\u001b[0m",
      "\u001b[0;31mNameError\u001b[0m                Traceback (most recent call last)",
      "\u001b[0;32m<ipython-input-2-2a368b50694d>\u001b[0m in \u001b[0;36m<module>\u001b[0;34m()\u001b[0m\n\u001b[1;32m      8\u001b[0m \u001b[0;34m\u001b[0m\u001b[0m\n\u001b[1;32m      9\u001b[0m \u001b[0;31m# Error occurs when we try to print a non-existing variable\u001b[0m\u001b[0;34m\u001b[0m\u001b[0;34m\u001b[0m\u001b[0m\n\u001b[0;32m---> 10\u001b[0;31m \u001b[0mprint\u001b[0m\u001b[0;34m(\u001b[0m\u001b[0;34m'c = '\u001b[0m\u001b[0;34m,\u001b[0m \u001b[0mc\u001b[0m\u001b[0;34m)\u001b[0m    \u001b[0;31m# <--- Error!\u001b[0m\u001b[0;34m\u001b[0m\u001b[0m\n\u001b[0m",
      "\u001b[0;31mNameError\u001b[0m: name 'c' is not defined"
     ]
    }
   ],
   "source": [
    "# Create a variable a and initialize it with value 2\n",
    "a = 2\n",
    "print('a = ', a)    # print function is very helpful\n",
    "\n",
    "# Create a new variable b\n",
    "b = 3*a\n",
    "print('b = ', b)\n",
    "\n",
    "# Error occurs when we try to print a non-existing variable\n",
    "print('c = ', c)    # <--- Error!"
   ]
  },
  {
   "cell_type": "code",
   "execution_count": 3,
   "metadata": {},
   "outputs": [
    {
     "name": "stdout",
     "output_type": "stream",
     "text": [
      "a =  2\n"
     ]
    }
   ],
   "source": [
    "# In Jupyter, every cell that has been evaluated stays in memory!\n",
    "\n",
    "print('a = ', a)    # <---- The variable 'a' was created in the above cell, but is still accessible here"
   ]
  },
  {
   "cell_type": "markdown",
   "metadata": {},
   "source": [
    "### Python naming rules\n",
    "1. Letters, numbers, and underscores are ok\n",
    "2. Variable name cannot start with a number\n",
    "3. No spaces allowed\n",
    "4. Letters are case-sensitive!\n",
    "5. Some names are reserved by Python and cannot (or should not) be used for variables; for example, you cannot name a variable `if`\n",
    "\n",
    "\n",
    "Read and then evaluate the cell below; remember, **Shift + Enter**!"
   ]
  },
  {
   "cell_type": "code",
   "execution_count": 4,
   "metadata": {},
   "outputs": [
    {
     "name": "stdout",
     "output_type": "stream",
     "text": [
      "5\n"
     ]
    },
    {
     "ename": "NameError",
     "evalue": "name 'variable_1' is not defined",
     "output_type": "error",
     "traceback": [
      "\u001b[0;31m----------------------------------------------------------\u001b[0m",
      "\u001b[0;31mNameError\u001b[0m                Traceback (most recent call last)",
      "\u001b[0;32m<ipython-input-4-9503314baaea>\u001b[0m in \u001b[0;36m<module>\u001b[0;34m()\u001b[0m\n\u001b[1;32m      1\u001b[0m \u001b[0mVariable_1\u001b[0m \u001b[0;34m=\u001b[0m \u001b[0;36m5\u001b[0m\u001b[0;34m\u001b[0m\u001b[0m\n\u001b[1;32m      2\u001b[0m \u001b[0mprint\u001b[0m\u001b[0;34m(\u001b[0m\u001b[0mVariable_1\u001b[0m\u001b[0;34m)\u001b[0m    \u001b[0;31m# <---- This is ok!\u001b[0m\u001b[0;34m\u001b[0m\u001b[0m\n\u001b[0;32m----> 3\u001b[0;31m \u001b[0mprint\u001b[0m\u001b[0;34m(\u001b[0m\u001b[0mvariable_1\u001b[0m\u001b[0;34m)\u001b[0m    \u001b[0;31m# <---- Error! 'v' should be capitalized\u001b[0m\u001b[0;34m\u001b[0m\u001b[0m\n\u001b[0m",
      "\u001b[0;31mNameError\u001b[0m: name 'variable_1' is not defined"
     ]
    }
   ],
   "source": [
    "Variable_1 = 5  \n",
    "print(Variable_1)    # <---- This is ok!\n",
    "print(variable_1)    # <---- Error! 'v' should be capitalized"
   ]
  },
  {
   "cell_type": "markdown",
   "metadata": {},
   "source": [
    "# 3. Python types\n",
    "- Every programming language has the concept of types\n",
    "- In Python, we can get the type of an object with the type() function\n",
    "- Run the cell below; it shows the main types we will explore today"
   ]
  },
  {
   "cell_type": "code",
   "execution_count": 5,
   "metadata": {},
   "outputs": [
    {
     "name": "stdout",
     "output_type": "stream",
     "text": [
      "5 \t\t\t <class 'int'>\n",
      "5.0 \t\t\t <class 'float'>\n",
      "abc 123 \t\t <class 'str'>\n",
      "True \t\t\t <class 'bool'>\n",
      "[0, 1, 2] \t\t <class 'list'>\n",
      "{'Key': 'Value'} \t <class 'dict'>\n"
     ]
    }
   ],
   "source": [
    "# Int type\n",
    "var = 5\n",
    "print(var, '\\t\\t\\t', type(var))\n",
    "\n",
    "# Float\n",
    "var = 5.0\n",
    "print(var, '\\t\\t\\t', type(var))\n",
    "\n",
    "# String\n",
    "var = 'abc 123'\n",
    "print(var, '\\t\\t', type(var))\n",
    "\n",
    "# Boolean\n",
    "var = True\n",
    "print(var, '\\t\\t\\t', type(var))\n",
    "\n",
    "# List\n",
    "var = [0,1,2]\n",
    "print(var, '\\t\\t', type(var))\n",
    "\n",
    "# Dict\n",
    "var = {'Key': 'Value'}\n",
    "print(var, '\\t', type(var))"
   ]
  },
  {
   "cell_type": "markdown",
   "metadata": {},
   "source": [
    "### Numeric types"
   ]
  },
  {
   "cell_type": "markdown",
   "metadata": {},
   "source": [
    "##### Floats (`float`)\n",
    "- `Float`s are numbers that have decimal places"
   ]
  },
  {
   "cell_type": "code",
   "execution_count": 6,
   "metadata": {},
   "outputs": [
    {
     "name": "stdout",
     "output_type": "stream",
     "text": [
      "a =  1.23 \t <class 'float'>\n",
      "b =  1.0 \t <class 'float'>\n",
      "c =  1.23 \t <class 'float'>\n"
     ]
    }
   ],
   "source": [
    "# Create a float\n",
    "a = 1.23\n",
    "print('a = ', a, '\\t', type(a))\n",
    "\n",
    "# Create another float\n",
    "b = 1.\n",
    "print('b = ', b, '\\t', type(b))\n",
    "\n",
    "# Divide the floats\n",
    "c = a/b\n",
    "print('c = ', c, '\\t', type(c))"
   ]
  },
  {
   "cell_type": "markdown",
   "metadata": {},
   "source": [
    "##### Integers (`int`)\n",
    "- An integer is a whole number, positive, negative or zero"
   ]
  },
  {
   "cell_type": "code",
   "execution_count": 7,
   "metadata": {},
   "outputs": [
    {
     "name": "stdout",
     "output_type": "stream",
     "text": [
      "a =  5 \t\t\t\t <class 'int'>\n",
      "b =  7 \t\t\t\t <class 'int'>\n",
      "a + b =  12 \t\t\t <class 'int'>\n",
      "a - b =  -2 \t\t\t <class 'int'>\n",
      "a * b =  35 \t\t\t <class 'int'>\n",
      "a / b =  0.7142857142857143 \t <class 'float'>\n"
     ]
    }
   ],
   "source": [
    "# Create an integer\n",
    "a = 5\n",
    "\n",
    "# Create another integer\n",
    "b = 7\n",
    "\n",
    "# Some arithmetic\n",
    "print('a = ', a, '\\t\\t\\t\\t', type(a))\n",
    "print('b = ', b, '\\t\\t\\t\\t', type(b))\n",
    "print('a + b = ', a+b, '\\t\\t\\t', type(a+b))\n",
    "print('a - b = ', a-b, '\\t\\t\\t', type(a-b))\n",
    "print('a * b = ', a*b, '\\t\\t\\t', type(a*b))\n",
    "print('a / b = ', a/b, '\\t', type(a/b))"
   ]
  },
  {
   "cell_type": "markdown",
   "metadata": {},
   "source": [
    "- Depending on which Python version you're running (2 or 3), you should have seen different results for the resultant type of the division operation\n",
    "- Division involving two `int`s yields different results for Python 2 and 3\n",
    "\n",
    "- Python 2:\n",
    "    - Integer division **always** results in an integer:\n",
    "    - For instance, 1/2=0 in Python 2!\n",
    "    - If you want a `float` instead, use `1./2`\n",
    "- Python 3:\n",
    "    - Integer division **always** results in a float:\n",
    "    - For instance, 1/2=0.5 in Python 2!\n",
    "    - If you want an `int` instead, use `1 // 2`"
   ]
  },
  {
   "cell_type": "markdown",
   "metadata": {},
   "source": [
    "### Strings (`str`)\n",
    "- `string`s are any combination of numbers, letters, and symbols contained in quotation marks, either single `'` or double `\"`\n",
    "- Here's an example:"
   ]
  },
  {
   "cell_type": "code",
   "execution_count": 8,
   "metadata": {},
   "outputs": [
    {
     "name": "stdout",
     "output_type": "stream",
     "text": [
      "Hello, world!\n",
      "<class 'str'>\n"
     ]
    }
   ],
   "source": [
    "hello_world = 'Hello, world!'\n",
    "print(hello_world)\n",
    "print(type(hello_world))"
   ]
  },
  {
   "cell_type": "markdown",
   "metadata": {},
   "source": [
    "- `string`s can be concatenated using plain old addition (`+`)\n",
    "- Other operations are not guaranteed to work!"
   ]
  },
  {
   "cell_type": "code",
   "execution_count": 9,
   "metadata": {},
   "outputs": [
    {
     "name": "stdout",
     "output_type": "stream",
     "text": [
      "Python 3.6\n",
      "PythonPython\n"
     ]
    },
    {
     "ename": "TypeError",
     "evalue": "unsupported operand type(s) for -: 'str' and 'str'",
     "output_type": "error",
     "traceback": [
      "\u001b[0;31m----------------------------------------------------------\u001b[0m",
      "\u001b[0;31mTypeError\u001b[0m                Traceback (most recent call last)",
      "\u001b[0;32m<ipython-input-9-b00fb0d5fcec>\u001b[0m in \u001b[0;36m<module>\u001b[0;34m()\u001b[0m\n\u001b[1;32m      4\u001b[0m \u001b[0mprint\u001b[0m\u001b[0;34m(\u001b[0m\u001b[0mlanguage\u001b[0m \u001b[0;34m+\u001b[0m \u001b[0;34m' '\u001b[0m \u001b[0;34m+\u001b[0m \u001b[0mversion\u001b[0m\u001b[0;34m)\u001b[0m    \u001b[0;31m# <---- This concatenates the two strings and adds a space between\u001b[0m\u001b[0;34m\u001b[0m\u001b[0m\n\u001b[1;32m      5\u001b[0m \u001b[0mprint\u001b[0m\u001b[0;34m(\u001b[0m\u001b[0mlanguage\u001b[0m\u001b[0;34m*\u001b[0m\u001b[0;36m2\u001b[0m\u001b[0;34m)\u001b[0m                  \u001b[0;31m# <---- Repeat the same string twice\u001b[0m\u001b[0;34m\u001b[0m\u001b[0m\n\u001b[0;32m----> 6\u001b[0;31m \u001b[0mprint\u001b[0m\u001b[0;34m(\u001b[0m\u001b[0mlanguage\u001b[0m \u001b[0;34m-\u001b[0m \u001b[0mversion\u001b[0m\u001b[0;34m)\u001b[0m          \u001b[0;31m# <---- This produces an error!\u001b[0m\u001b[0;34m\u001b[0m\u001b[0m\n\u001b[0m",
      "\u001b[0;31mTypeError\u001b[0m: unsupported operand type(s) for -: 'str' and 'str'"
     ]
    }
   ],
   "source": [
    "language = 'Python'\n",
    "version = '3.6'\n",
    "\n",
    "print(language + ' ' + version)    # <---- This concatenates the two strings and adds a space between\n",
    "print(language*2)                  # <---- Repeat the same string twice\n",
    "print(language - version)          # <---- This produces an error!"
   ]
  },
  {
   "cell_type": "markdown",
   "metadata": {},
   "source": [
    "- Python also has some very convenient functions for common manipulations of strings.\n",
    "- We'll get into function calling syntax in greater detail below, but here's an example of a couple string functions"
   ]
  },
  {
   "cell_type": "code",
   "execution_count": 10,
   "metadata": {},
   "outputs": [
    {
     "name": "stdout",
     "output_type": "stream",
     "text": [
      "Python\n",
      "PYTHON\n",
      "python\n",
      "Py\n"
     ]
    }
   ],
   "source": [
    "print(language)                               # Print language name ('Python')\n",
    "print(language.upper())                       # Capitalize all letters\n",
    "print(language.lower())                       # Lower-case all letters\n",
    "print(language.replace('thon', ''))           # Remove 'thon' by replacing it with empty space"
   ]
  },
  {
   "cell_type": "markdown",
   "metadata": {},
   "source": [
    "### Booleans (`bool`)\n",
    "- Booleans are objects that can take on only one of two values, `True` or `False`\n",
    "- Notice the syntax highlighting in the cell below, `True` is green since it is a recognized keyword!"
   ]
  },
  {
   "cell_type": "code",
   "execution_count": 11,
   "metadata": {},
   "outputs": [
    {
     "name": "stdout",
     "output_type": "stream",
     "text": [
      "True\n",
      "<class 'bool'>\n",
      "False\n",
      "<class 'bool'>\n"
     ]
    }
   ],
   "source": [
    "python_is_rad = True\n",
    "print(python_is_rad)\n",
    "print(type(python_is_rad))\n",
    "\n",
    "your_instructor_is_lame = False\n",
    "print(your_instructor_is_lame)\n",
    "print(type(your_instructor_is_lame))"
   ]
  },
  {
   "cell_type": "markdown",
   "metadata": {},
   "source": [
    "### Lists (`list`)\n",
    "- Lists are used to store one or more variables\n",
    "- They are created by wrapping a set of variables in brackets `[]`, and separating them with commas `,` like so:\n",
    "- `new_list = [1,2,3]`"
   ]
  },
  {
   "cell_type": "code",
   "execution_count": 12,
   "metadata": {},
   "outputs": [
    {
     "name": "stdout",
     "output_type": "stream",
     "text": [
      "[0, 1, 2, 3, 4, 5]\n",
      "<class 'list'>\n"
     ]
    }
   ],
   "source": [
    "new_list = [0,1,2,3,4,5]\n",
    "print(new_list)\n",
    "print(type(new_list))"
   ]
  },
  {
   "cell_type": "markdown",
   "metadata": {},
   "source": [
    "- Often times we want to select a subset of a list, e.g. select the first element of a list, or e.g. select the 2nd through 5th elements\n",
    "- To access specific elements of a list, we write `new_list[index]`, where `index` is the element we are interested\n",
    "- To access a range, use `new_list[index1:index2]`\n",
    "- ** NOTE: The first element is always indexed by 0, not 1!! **"
   ]
  },
  {
   "cell_type": "code",
   "execution_count": 13,
   "metadata": {},
   "outputs": [
    {
     "name": "stdout",
     "output_type": "stream",
     "text": [
      "first element:  0\n",
      "last element:  5\n",
      "second to last element:  4\n",
      "2nd through 4th:  [1, 2, 3]\n"
     ]
    }
   ],
   "source": [
    "# Get first element of list\n",
    "print('first element: ', new_list[0])\n",
    "\n",
    "# Get last element of list\n",
    "print('last element: ', new_list[-1])\n",
    "\n",
    "# Get second to last element of list\n",
    "print('second to last element: ', new_list[-2])\n",
    "\n",
    "# Get 2nd through 4th element, notice the colon :\n",
    "# 1:4 means indices 1, 2, and 3! It does not include index 4\n",
    "print('2nd through 4th: ', new_list[1:4])"
   ]
  },
  {
   "cell_type": "markdown",
   "metadata": {},
   "source": [
    "- Python has a lot of convenience functions for manipulating lists, including\n",
    "    - `len()`: Returns the length of a list\n",
    "    - `append()`: append the argument to the back of the list\n",
    "    - `remove()`: remove the first instance of the argument from the list\n",
    "    - `sort()`: sorts a list; allows for sorting by various, and even custom criteria\n",
    "    \n",
    "- **Example:** Appending to a list, and finding the length of the list"
   ]
  },
  {
   "cell_type": "code",
   "execution_count": 14,
   "metadata": {},
   "outputs": [
    {
     "name": "stdout",
     "output_type": "stream",
     "text": [
      "empty list []\n",
      "list after appending [3, 2, 1]\n",
      "list after sorting [1, 2, 3]\n",
      "length of list 3\n"
     ]
    }
   ],
   "source": [
    "# Create an empty list\n",
    "new_list = []\n",
    "print('empty list', new_list)\n",
    "\n",
    "# Append some values to the list\n",
    "new_list.append(3)    # Use 'append()' to add 1 to the list; notice the syntax, it will make sense later\n",
    "new_list.append(2)\n",
    "new_list.append(1)\n",
    "print('list after appending', new_list)\n",
    "\n",
    "# Sort the list\n",
    "new_list.sort()\n",
    "print('list after sorting', new_list)\n",
    "\n",
    "\n",
    "# Get the length of the list\n",
    "print('length of list', len(new_list))    # <--- Notice that the syntax for using the function is different than above!\n",
    "                                          #      We will discuss this later."
   ]
  },
  {
   "cell_type": "markdown",
   "metadata": {},
   "source": [
    "### Dictionary (`dict`)\n",
    "- A dictionary is like a list, but instead of holding multiple single items, it holds `key:value` pairs of data\n",
    "- To create a `dict`, we use curly brackets `{}` instead of square brackets `[]`\n",
    "- Values are accessed by providing the dictionary their key"
   ]
  },
  {
   "cell_type": "code",
   "execution_count": 15,
   "metadata": {},
   "outputs": [
    {
     "name": "stdout",
     "output_type": "stream",
     "text": [
      "{'red': '0xFF0000', 'green': '0x00FF00', 'blue': '0x0000FF'}\n",
      "green 0x00FF00\n",
      "purple 0xFF00FF\n"
     ]
    },
    {
     "ename": "KeyError",
     "evalue": "'orange'",
     "output_type": "error",
     "traceback": [
      "\u001b[0;31m----------------------------------------------------------\u001b[0m",
      "\u001b[0;31mKeyError\u001b[0m                 Traceback (most recent call last)",
      "\u001b[0;32m<ipython-input-15-38cc88ff19eb>\u001b[0m in \u001b[0;36m<module>\u001b[0;34m()\u001b[0m\n\u001b[1;32m     13\u001b[0m \u001b[0;34m\u001b[0m\u001b[0m\n\u001b[1;32m     14\u001b[0m \u001b[0;31m# Try to print a key that doesn't exist... this will yield an error!\u001b[0m\u001b[0;34m\u001b[0m\u001b[0;34m\u001b[0m\u001b[0m\n\u001b[0;32m---> 15\u001b[0;31m \u001b[0mprint\u001b[0m\u001b[0;34m(\u001b[0m\u001b[0;34m'orange'\u001b[0m\u001b[0;34m,\u001b[0m \u001b[0mhex_colors\u001b[0m\u001b[0;34m[\u001b[0m\u001b[0;34m'orange'\u001b[0m\u001b[0;34m]\u001b[0m\u001b[0;34m)\u001b[0m\u001b[0;34m\u001b[0m\u001b[0m\n\u001b[0m",
      "\u001b[0;31mKeyError\u001b[0m: 'orange'"
     ]
    }
   ],
   "source": [
    "# Create a dictionary of RGB hex colors\n",
    "hex_colors = {'red': '0xFF0000', 'green': '0x00FF00', 'blue': '0x0000FF'}\n",
    "\n",
    "# Print the dictionary\n",
    "print(hex_colors)\n",
    "\n",
    "# Get and print the value associated with key 'green'\n",
    "print('green', hex_colors['green'])\n",
    "\n",
    "# Add purple to the dictionary\n",
    "hex_colors['purple'] = '0xFF00FF'\n",
    "print('purple', hex_colors['purple'])\n",
    "\n",
    "# Try to print a key that doesn't exist... this will yield an error!\n",
    "print('orange', hex_colors['orange'])"
   ]
  },
  {
   "cell_type": "markdown",
   "metadata": {},
   "source": [
    "# 4. Control flows in Python\n",
    "- We will go over the three major control flows:\n",
    "    - `for`\n",
    "    - `if`, `else`, `elif`\n",
    "    - `while`"
   ]
  },
  {
   "cell_type": "markdown",
   "metadata": {},
   "source": [
    "### `for`\n",
    "\n",
    "- `for` allows you to loop over elements of a list:\n",
    "- for example:"
   ]
  },
  {
   "cell_type": "code",
   "execution_count": 16,
   "metadata": {},
   "outputs": [
    {
     "name": "stdout",
     "output_type": "stream",
     "text": [
      "This is my friend, Ann\n",
      "This is my friend, Joey\n",
      "This is my friend, Sam\n",
      "This is my friend, Stacey\n"
     ]
    }
   ],
   "source": [
    "friends = ['Ann', 'Joey', 'Sam', 'Stacey']\n",
    "\n",
    "for friend in friends:\n",
    "    print('This is my friend,', friend)"
   ]
  },
  {
   "cell_type": "markdown",
   "metadata": {},
   "source": [
    "- Two very important things to point out:\n",
    "    - the `for` loop iterates through every element in the specified list---in order---and at each iteration the loop variable is set to the next element in the list\n",
    "    - In the above example, the loop variable `friend` is set to 'Ann', 'Joey', 'Sam', and 'Stacey', in order\n",
    "    - The tab before the print statement is absolutely necessary! It signals that the code is part of the `for` loop containing it; to stop adding code to the `for` loop, simply go back to the previous indentation level\n",
    "    \n",
    "    \n",
    "- Often times we want to simply perform an operation a fixed number of times instead of loop over a list; this can be achieved by creating a list of numbers"
   ]
  },
  {
   "cell_type": "code",
   "execution_count": 17,
   "metadata": {},
   "outputs": [
    {
     "name": "stdout",
     "output_type": "stream",
     "text": [
      "0 2\n",
      "1 4\n",
      "2 8\n",
      "3 16\n",
      "4 32\n"
     ]
    }
   ],
   "source": [
    "a = 1\n",
    "\n",
    "for i in [0,1,2,3,4]:\n",
    "    a = a * 2\n",
    "    print(i, a)"
   ]
  },
  {
   "cell_type": "markdown",
   "metadata": {},
   "source": [
    "- You can use the `range()` function as a short cut to avoid writing all the numbers manually:"
   ]
  },
  {
   "cell_type": "code",
   "execution_count": 18,
   "metadata": {},
   "outputs": [
    {
     "name": "stdout",
     "output_type": "stream",
     "text": [
      "0 2\n",
      "1 4\n",
      "2 8\n",
      "3 16\n",
      "4 32\n"
     ]
    }
   ],
   "source": [
    "a = 1\n",
    "\n",
    "for i in range(0,5):\n",
    "    a = a * 2\n",
    "    print(i, a)"
   ]
  },
  {
   "cell_type": "markdown",
   "metadata": {},
   "source": [
    "- How does this work?\n",
    "- `range(a,b)` is simply a function that takes as argument the starting index a, the final index b, and returns a list of all numbers in between!*\n",
    "\n",
    "\\* In Python 3, `range()` isn't actually a function but a class, but for all intents and purposes we can consider the range() function to generate a list of numbers"
   ]
  },
  {
   "cell_type": "markdown",
   "metadata": {},
   "source": [
    "### if, elif, else\n",
    "- `if` allows us to perform some operations if certain specified conditions are met\n",
    "- Remember `bool` type variables we went over before? The 'specified conditions' mentioned above always reduce down to a `True` or `False` value, which means they are of type `bool`"
   ]
  },
  {
   "cell_type": "code",
   "execution_count": 19,
   "metadata": {},
   "outputs": [
    {
     "name": "stdout",
     "output_type": "stream",
     "text": [
      "3\n"
     ]
    }
   ],
   "source": [
    "for i in range(5):\n",
    "    if (i == 3):    # Notice the '=='\n",
    "        print(i)"
   ]
  },
  {
   "cell_type": "markdown",
   "metadata": {},
   "source": [
    "- The above condition in the `if` statement evaluates to a `bool` value, in other words, `(i==3)` is really equal to `True` or `False`\n",
    "- Notice the difference between `=` and `==`\n",
    "- `=` is used to *assign* a value to a variable; it is called the *assignment operator*\n",
    "- `==` is an operator that checks whether objects on either side are equal to one another; if they are equal, the expression evaluates to `True`\n",
    "- **`=` is not the same as `==`!**"
   ]
  },
  {
   "cell_type": "code",
   "execution_count": 20,
   "metadata": {},
   "outputs": [
    {
     "name": "stdout",
     "output_type": "stream",
     "text": [
      "False\n",
      "<class 'bool'>\n"
     ]
    }
   ],
   "source": [
    "print(2 + 2 == 5)          # The expression inside the parantheses is of `bool` type, with value `False`\n",
    "print(type(2 + 2 == 5))"
   ]
  },
  {
   "cell_type": "markdown",
   "metadata": {},
   "source": [
    "- Additional comparison operators:\n",
    "    - `!=`: not equal\n",
    "    - `>`: greater than\n",
    "    - `>=`: greater than or equal to\n",
    "    - `<`: less than\n",
    "    - `<=`: less than or equal to"
   ]
  },
  {
   "cell_type": "markdown",
   "metadata": {},
   "source": [
    "- What if we want to perform an operation based on whether a conditional is `True` or `False`?\n",
    "- That's where `else` comes in!"
   ]
  },
  {
   "cell_type": "code",
   "execution_count": 21,
   "metadata": {},
   "outputs": [
    {
     "name": "stdout",
     "output_type": "stream",
     "text": [
      "0 i<2\n",
      "1 i<2\n",
      "2 i>=2\n",
      "3 i>=2\n",
      "4 i>=2\n"
     ]
    }
   ],
   "source": [
    "for i in range(5):\n",
    "    if i < 2:\n",
    "        print(i, 'i<2')\n",
    "    else:\n",
    "        print(i, 'i>=2')"
   ]
  },
  {
   "cell_type": "markdown",
   "metadata": {},
   "source": [
    "- What if we want to split behavior on more conditionals?\n",
    "- Use `elif` ('else-if')!"
   ]
  },
  {
   "cell_type": "code",
   "execution_count": 22,
   "metadata": {},
   "outputs": [
    {
     "name": "stdout",
     "output_type": "stream",
     "text": [
      "meow!\n"
     ]
    }
   ],
   "source": [
    "animal = 'cat'\n",
    "\n",
    "if animal == 'dog':\n",
    "    print('woof')\n",
    "    \n",
    "elif animal == 'parrot':\n",
    "    print('squawk!')\n",
    "\n",
    "elif animal == 'cat':\n",
    "    print('meow!')\n",
    "    \n",
    "else:\n",
    "    print(\"i don't know what type of animal this is...\")"
   ]
  },
  {
   "cell_type": "markdown",
   "metadata": {},
   "source": [
    "- We can combine multiple conditionals with `and` and `or` statements!\n",
    "- For instance, (a and b) evaluates to True if (a == True) and (b == True)\n",
    "- (a or b) is True if any of the two arguments is True, false otherwise"
   ]
  },
  {
   "cell_type": "code",
   "execution_count": 23,
   "metadata": {},
   "outputs": [
    {
     "name": "stdout",
     "output_type": "stream",
     "text": [
      "i =  0 \t\t(else)\n",
      "i =  1 \t\t(else)\n",
      "i =  2 \t\ti > 2 and i < 5\n",
      "i =  3 \t\ti > 2 and i < 5\n",
      "i =  4 \t\ti > 2 and i < 5\n",
      "i =  5 \t\ti==5 or i==6\n",
      "i =  6 \t\ti==5 or i==6\n",
      "i =  7 \t\t(else)\n",
      "i =  8 \t\t(else)\n",
      "i =  9 \t\t(else)\n"
     ]
    }
   ],
   "source": [
    "for i in range(10):\n",
    "    if i >= 2 and i < 5:\n",
    "        print('i = ', i, '\\t\\ti > 2 and i < 5')\n",
    "    \n",
    "    elif i == 5 or i == 6:\n",
    "        print('i = ', i, '\\t\\ti==5 or i==6')\n",
    "    \n",
    "    else:\n",
    "        print('i = ', i, '\\t\\t(else)')"
   ]
  },
  {
   "cell_type": "markdown",
   "metadata": {},
   "source": [
    "### `while`\n",
    "- `while` repeats a code block as long as the conditional is `True`"
   ]
  },
  {
   "cell_type": "code",
   "execution_count": 24,
   "metadata": {},
   "outputs": [
    {
     "name": "stdout",
     "output_type": "stream",
     "text": [
      "0\n",
      "1\n",
      "2\n",
      "3\n",
      "4\n",
      "5\n",
      "6\n",
      "7\n",
      "8\n",
      "9\n"
     ]
    }
   ],
   "source": [
    "i = 0\n",
    "\n",
    "while i < 10:\n",
    "    print(i)\n",
    "    i = i + 1"
   ]
  },
  {
   "cell_type": "markdown",
   "metadata": {},
   "source": [
    "- It's particularly useful if you want to run something until an event occurs"
   ]
  },
  {
   "cell_type": "code",
   "execution_count": 25,
   "metadata": {},
   "outputs": [
    {
     "name": "stdout",
     "output_type": "stream",
     "text": [
      "2\n",
      "2\n",
      "2\n",
      "3\n",
      "3\n",
      "0\n",
      "1\n",
      "3\n",
      "0\n",
      "4\n",
      "3\n",
      "5\n",
      "3\n",
      "2\n",
      "1\n",
      "5\n",
      "4\n",
      "4\n",
      "2\n",
      "0\n",
      "3\n",
      "6\n"
     ]
    }
   ],
   "source": [
    "# Generate a random dice roll and print until hitting 6\n",
    "\n",
    "import random\n",
    "\n",
    "random_number = -1\n",
    "while random_number != 6:\n",
    "    random_number = random.randint(0,6)\n",
    "    print(random_number)"
   ]
  },
  {
   "cell_type": "markdown",
   "metadata": {},
   "source": [
    "# Functions\n",
    "- Functions in Python are defined with the `def` keyword\n",
    "- Values are returned with the `return` keyword\n",
    "- Example: Create a function to calculate the mean of a list"
   ]
  },
  {
   "cell_type": "code",
   "execution_count": 26,
   "metadata": {
    "collapsed": true
   },
   "outputs": [],
   "source": [
    "# Define the mean function, which calculates the mean of a list\n",
    "def mean(input_list):    # The function takes in argument `input_list`\n",
    "    mean = 0\n",
    "    for i in range(len(input_list)):\n",
    "        mean = mean + input_list[i]\n",
    "    mean = mean/len(input_list)\n",
    "    \n",
    "    return mean    # This is the end result we want returned"
   ]
  },
  {
   "cell_type": "code",
   "execution_count": 27,
   "metadata": {},
   "outputs": [
    {
     "name": "stdout",
     "output_type": "stream",
     "text": [
      "0 0\n",
      "1 1\n",
      "2 4\n",
      "3 9\n",
      "4 16\n",
      "5 25\n",
      "6 36\n",
      "7 49\n",
      "8 64\n",
      "9 81\n",
      "mean =  28.5\n"
     ]
    }
   ],
   "source": [
    "# Create empty list to store some numbers\n",
    "numbers = []\n",
    "\n",
    "# Fill the list\n",
    "for i in range(10):\n",
    "    print(i, i*i)\n",
    "    numbers.append(i*i)               # Use append to add a new number to the numbers list, in this case\n",
    "                                       # we are appending the squares of the integers 0-9\n",
    "    \n",
    "\n",
    "numbers_mean = mean(numbers)           # We create a new variable numbers_mean, and set it equal\n",
    "                                       # to the value returned by the mean() function\n",
    "    \n",
    "print('mean = ', numbers_mean)        # Print the result"
   ]
  },
  {
   "cell_type": "markdown",
   "metadata": {},
   "source": [
    "- Remember when we found the length of a `list` above?\n",
    "- We used `len()`, which is a built-in Python function\n",
    "- len() also works on `dict` types!"
   ]
  },
  {
   "cell_type": "code",
   "execution_count": 28,
   "metadata": {},
   "outputs": [
    {
     "name": "stdout",
     "output_type": "stream",
     "text": [
      "list length 3\n",
      "dictionary length 4\n"
     ]
    }
   ],
   "source": [
    "######\n",
    "# List\n",
    "######\n",
    "\n",
    "a_list = [1,2,3]\n",
    "\n",
    "\n",
    "list_length = len(a_list)    # We use the `len()` function to get the length of a list\n",
    "                             # Its argument is the list we want to know the length of\n",
    "                             # It returns an integer; the length of the list\n",
    "\n",
    "print('list length', list_length)\n",
    "\n",
    "######\n",
    "# Dict\n",
    "######\n",
    "\n",
    "a_dict = {'a':0, 'b':1, 'c':2, 'd':3}\n",
    "\n",
    "dict_length = len(a_dict)\n",
    "\n",
    "print('dictionary length', dict_length)"
   ]
  },
  {
   "cell_type": "markdown",
   "metadata": {},
   "source": [
    "# Classes\n",
    "- In object oriented programming languages, classes are a data structure that allow binding of variables and functions together in a single object\n",
    "- The `class` operator defines a class in Python:\n",
    "- There are two types of variables inside classes:\n",
    "    - Class variable\n",
    "        - A variable that has the same value for all instantiated objects of that `class`\n",
    "    - Instance variable\n",
    "        - A variable whose value is specifically defined for that particular instantiation"
   ]
  },
  {
   "cell_type": "code",
   "execution_count": 29,
   "metadata": {},
   "outputs": [
    {
     "name": "stdout",
     "output_type": "stream",
     "text": [
      "Barkley says 'woofwoof'!\n",
      "Bailey says 'woofwoof'!\n"
     ]
    }
   ],
   "source": [
    "# Create a 'Dog' class\n",
    "class Dog(object):\n",
    "    \n",
    "    sound = 'woofwoof'    # <---- This is a 'class' variable; all Dog types share this attribute\n",
    "    \n",
    "    \n",
    "    \n",
    "    \n",
    "    \n",
    "    # Define the initialization/constructor function\n",
    "    # This function is automatically called when we create a new Dog object\n",
    "    # Notice the 'self' function argument; all functions inside a class that operate on instance variables\n",
    "    # must have 'self' as their first argument!\n",
    "    def __init__(self, name):\n",
    "        \n",
    "        # Create an instance variable\n",
    "        self.name = name    # 'self' prefix means that the variable is tied to a specific instance of Dog\n",
    "    \n",
    "    \n",
    "    \n",
    "    \n",
    "    \n",
    "    def MakeSound(self):\n",
    "        # Print the sound that a dog makes;\n",
    "        # Notice we use 'Dog.sound' instead of 'self.sound', since 'sound' is a class variable\n",
    "        print(self.name + ' says ' + \"'\" + Dog.sound + \"'\" + '!')\n",
    "        \n",
    "    \n",
    "    \n",
    "    \n",
    "    \n",
    "\n",
    "barkley_dog = Dog('Barkley')\n",
    "barkley_dog.MakeSound()\n",
    "\n",
    "bailey_dog = Dog('Bailey')\n",
    "bailey_dog.MakeSound()"
   ]
  },
  {
   "cell_type": "markdown",
   "metadata": {},
   "source": [
    "- Notice the syntax for how we called the function belonging to the Dog objects:\n",
    "- We used 'instance'.'function()'\n",
    "- This says, perform the 'function' belonging to 'instance'\n",
    "- Barkley and Bailey each have their own 'MakeSound()' function that is specific to the data that they contain\n",
    "- The functions have the same form, but operate on different data (the dog.name instance variable)!"
   ]
  },
  {
   "cell_type": "code",
   "execution_count": 30,
   "metadata": {},
   "outputs": [
    {
     "name": "stdout",
     "output_type": "stream",
     "text": [
      "['MakeSound', '__class__', '__delattr__', '__dict__', '__dir__', '__doc__', '__eq__', '__format__', '__ge__', '__getattribute__', '__gt__', '__hash__', '__init__', '__init_subclass__', '__le__', '__lt__', '__module__', '__ne__', '__new__', '__reduce__', '__reduce_ex__', '__repr__', '__setattr__', '__sizeof__', '__str__', '__subclasshook__', '__weakref__', 'name', 'sound']\n"
     ]
    }
   ],
   "source": [
    "print(dir(bailey_dog))     # Get a list of all the variables and functions() that bailey_dog has;\n",
    "                           # Notice that we only defined two variables and two functions:\n",
    "                               # Variables: 'sound' and 'self.name'\n",
    "                               # Functions: 'self.__init__()' and 'MakeSound()'\n",
    "                               # Other: Generic object attributes; all objects have these"
   ]
  },
  {
   "cell_type": "markdown",
   "metadata": {},
   "source": [
    "- Remember `list` objects that we talked about above?\n",
    "- To append an object to a `list` object, we used `list.append()`\n",
    "- This is because `list` is a `class` in Python, and `append()` is one of its class functions!"
   ]
  },
  {
   "cell_type": "code",
   "execution_count": 31,
   "metadata": {},
   "outputs": [
    {
     "name": "stdout",
     "output_type": "stream",
     "text": [
      "[1, 2, 3, 4, 5, 6]\n"
     ]
    }
   ],
   "source": [
    "new_list = [1,2,3,4,5]\n",
    "\n",
    "new_list.append(6)    # Append a new number to the list.\n",
    "                      # The function call has the same syntax as the MakeSound() function above, \n",
    "                      # but the append() function has an argument that must be specified; it is the value\n",
    "                      # to be added to the list.\n",
    "        \n",
    "print(new_list)"
   ]
  },
  {
   "cell_type": "code",
   "execution_count": 32,
   "metadata": {},
   "outputs": [
    {
     "name": "stdout",
     "output_type": "stream",
     "text": [
      "['__add__', '__class__', '__contains__', '__delattr__', '__delitem__', '__dir__', '__doc__', '__eq__', '__format__', '__ge__', '__getattribute__', '__getitem__', '__gt__', '__hash__', '__iadd__', '__imul__', '__init__', '__init_subclass__', '__iter__', '__le__', '__len__', '__lt__', '__mul__', '__ne__', '__new__', '__reduce__', '__reduce_ex__', '__repr__', '__reversed__', '__rmul__', '__setattr__', '__setitem__', '__sizeof__', '__str__', '__subclasshook__', 'append', 'clear', 'copy', 'count', 'extend', 'index', 'insert', 'pop', 'remove', 'reverse', 'sort']\n"
     ]
    }
   ],
   "source": [
    "print(dir(list))    # Get a list of all the class functions that the `list` `class` has"
   ]
  },
  {
   "cell_type": "markdown",
   "metadata": {},
   "source": [
    "# Modules\n",
    "- What if we want to use some code that someone else has written? This is where ** modules ** come into play\n",
    "- A module is just a file containing Python code that we can import into our current environment for use (in this case, the particular Jupyter notebook we are working in)\n",
    "- Modules also allow us to create Python programs consisting of many .py files, and additionally allow for easy reuse of code\n",
    "- Let's import `math`, one of the modules in the Python standard library"
   ]
  },
  {
   "cell_type": "code",
   "execution_count": 33,
   "metadata": {},
   "outputs": [
    {
     "name": "stdout",
     "output_type": "stream",
     "text": [
      "<class 'module'>\n",
      "['__doc__', '__file__', '__loader__', '__name__', '__package__', '__spec__', 'acos', 'acosh', 'asin', 'asinh', 'atan', 'atan2', 'atanh', 'ceil', 'copysign', 'cos', 'cosh', 'degrees', 'e', 'erf', 'erfc', 'exp', 'expm1', 'fabs', 'factorial', 'floor', 'fmod', 'frexp', 'fsum', 'gamma', 'gcd', 'hypot', 'inf', 'isclose', 'isfinite', 'isinf', 'isnan', 'ldexp', 'lgamma', 'log', 'log10', 'log1p', 'log2', 'modf', 'nan', 'pi', 'pow', 'radians', 'sin', 'sinh', 'sqrt', 'tan', 'tanh', 'tau', 'trunc']\n"
     ]
    }
   ],
   "source": [
    "import math            # Import the module\n",
    "\n",
    "print(type(math))      # Check what type math is (should be a module)\n",
    "print(dir(math))       # Look at what comes with the math module"
   ]
  },
  {
   "cell_type": "markdown",
   "metadata": {},
   "source": [
    "- Cool! The 'math' module gives us access to a bunch of mathematical functions\n",
    "- Let's use one:"
   ]
  },
  {
   "cell_type": "code",
   "execution_count": 34,
   "metadata": {},
   "outputs": [
    {
     "name": "stdout",
     "output_type": "stream",
     "text": [
      "2.0\n"
     ]
    }
   ],
   "source": [
    "print(math.sqrt(4))"
   ]
  },
  {
   "cell_type": "markdown",
   "metadata": {},
   "source": [
    "- Notice the `math.` preceding the function call\n",
    "- This is necessary to tell Python in which module to look for the function!\n",
    "- This means we could define our own square root function without a name collision"
   ]
  },
  {
   "cell_type": "code",
   "execution_count": 35,
   "metadata": {},
   "outputs": [
    {
     "name": "stdout",
     "output_type": "stream",
     "text": [
      "2.0\n",
      "2.0\n"
     ]
    }
   ],
   "source": [
    "def sqrt(number):\n",
    "    return number**(0.5)   # ** is exponent operator\n",
    "\n",
    "print(sqrt(4))\n",
    "print(math.sqrt(4))"
   ]
  },
  {
   "cell_type": "markdown",
   "metadata": {},
   "source": [
    "- There are a lot of really cool open-source Python packages available\n",
    "- For instance, the code block below imports `numpy` and `matplotlib` to generate a plot of a sin function!"
   ]
  },
  {
   "cell_type": "code",
   "execution_count": 36,
   "metadata": {},
   "outputs": [
    {
     "data": {
      "image/png": "[encoded data removed]",
      "text/plain": [
       "<matplotlib.figure.Figure at 0x7f8e30fd15c0>"
      ]
     },
     "metadata": {},
     "output_type": "display_data"
    }
   ],
   "source": [
    "import matplotlib.pyplot\n",
    "import numpy\n",
    "\n",
    "# Use `numpy` package to create a list of x-values from 0 to 2*Pi, and a list of the sin() of those x-values\n",
    "xs = numpy.linspace(0,2*numpy.pi,100)\n",
    "ys = numpy.sin(xs)\n",
    "\n",
    "# Use 'matplotlib.pyplot' package to plot the lists!\n",
    "matplotlib.pyplot.plot(xs,ys)\n",
    "matplotlib.pyplot.xlabel('x')\n",
    "matplotlib.pyplot.ylabel('sin(x)')\n",
    "matplotlib.pyplot.show()"
   ]
  },
  {
   "cell_type": "code",
   "execution_count": null,
   "metadata": {
    "collapsed": true
   },
   "outputs": [],
   "source": []
  }
 ],
 "metadata": {
  "kernelspec": {
   "display_name": "Python 3",
   "language": "python",
   "name": "python3"
  },
  "language_info": {
   "codemirror_mode": {
    "name": "ipython",
    "version": 3
   },
   "file_extension": ".py",
   "mimetype": "text/x-python",
   "name": "python",
   "nbconvert_exporter": "python",
   "pygments_lexer": "ipython3",
   "version": "3.6.1"
  }
 },
 "nbformat": 4,
 "nbformat_minor": 2
}
